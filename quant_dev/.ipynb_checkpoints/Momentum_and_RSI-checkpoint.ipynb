{
 "cells": [
  {
   "cell_type": "markdown",
   "id": "d9aca533",
   "metadata": {},
   "source": [
    "# Get top 10 momentum stocks\n",
    "# Get RSI of momentum stocks"
   ]
  },
  {
   "cell_type": "markdown",
   "id": "79b3a5a0",
   "metadata": {},
   "source": [
    "## import libraries"
   ]
  },
  {
   "cell_type": "code",
   "execution_count": 1,
   "id": "e0c6525b",
   "metadata": {},
   "outputs": [],
   "source": [
    "import bs4 as bs\n",
    "import datetime as dt\n",
    "import os\n",
    "import pickle\n",
    "import requests\n",
    "\n",
    "import yfinance as yf\n",
    "import pandas as pd\n",
    "import numpy as np\n",
    "import matplotlib.pyplot as plt\n",
    "from datetime import datetime, timedelta\n",
    "import seaborn as sns\n",
    "from scipy.stats import norm\n",
    "%matplotlib inline"
   ]
  },
  {
   "cell_type": "markdown",
   "id": "7f17a4c6",
   "metadata": {},
   "source": [
    "## download stock data from yahoo finance for past 3 months"
   ]
  },
  {
   "cell_type": "code",
   "execution_count": 2,
   "id": "a3e59c4b",
   "metadata": {},
   "outputs": [],
   "source": [
    "def save_sp500_tickers():\n",
    "    resp = requests.get('http://en.wikipedia.org/wiki/List_of_S%26P_500_companies')\n",
    "    soup = bs.BeautifulSoup(resp.text, 'lxml')\n",
    "    table = soup.find('table', {'class': 'wikitable sortable'})\n",
    "    tickers = []\n",
    "    for row in table.findAll('tr')[1:]:\n",
    "        ticker = row.findAll('td')[0].text\n",
    "        tickers.append(ticker)\n",
    "    with open(\"sp500tickers.pickle\", \"wb\") as f:\n",
    "        pickle.dump(tickers, f)\n",
    "    return tickers\n",
    "\n",
    "stocks_list = save_sp500_tickers()\n",
    "stocks_list = [ticker[:-1] for ticker in stocks_list] # remove '\\n' from tickers in tickers list"
   ]
  },
  {
   "cell_type": "code",
   "execution_count": null,
   "id": "40b8ff0b",
   "metadata": {
    "scrolled": true
   },
   "outputs": [],
   "source": [
    "today = datetime.now()\n",
    "begin = (today - timedelta(days=90)).strftime('%Y-%m-%d')\n",
    "stocks = yf.download(stocks_list, start=begin)['Adj Close']\n",
    "stocks"
   ]
  },
  {
   "cell_type": "markdown",
   "id": "35aca550",
   "metadata": {},
   "source": [
    "## calculate one year return"
   ]
  },
  {
   "cell_type": "code",
   "execution_count": null,
   "id": "3bcb552c",
   "metadata": {},
   "outputs": [],
   "source": [
    "# get stock data for past n days\n",
    "days = 3*365\n",
    "def get_range_stocks(stocks, range_days): \n",
    "    range_start = (today - timedelta(days=range_days)).strftime('%Y-%m-%d')\n",
    "    range_stocks = stocks[stocks.index >= datetime.strptime(range_start, '%Y-%m-%d')]\n",
    "    return range_stocks\n",
    "\n",
    "range_stocks = get_range_stocks(stocks, days)"
   ]
  },
  {
   "cell_type": "code",
   "execution_count": null,
   "id": "3e30eef0",
   "metadata": {},
   "outputs": [],
   "source": [
    "def get_summary(stocks_df):\n",
    "    stocks_daily_ret = stocks.pct_change()\n",
    "    stocks_daily_ret = stocks_daily_ret.iloc[1:]\n",
    "    stocks_range_summary = stocks_daily_ret.describe().T.loc[:,['mean', 'std']] * len(stocks_df)\n",
    "    stocks_range_summary['std'] = stocks_annual_summary['std']*np.sqrt(len(stocks_df))\n",
    "    return stocks_range_summary\n",
    "\n",
    "range_stocks_summary = get_summary(range_stocks)\n",
    "range_stocks_summary"
   ]
  },
  {
   "cell_type": "markdown",
   "id": "f1c381de",
   "metadata": {},
   "source": [
    "## get top 10 momentum stocks"
   ]
  },
  {
   "cell_type": "code",
   "execution_count": null,
   "id": "93c4a415",
   "metadata": {
    "scrolled": true
   },
   "outputs": [],
   "source": [
    "momentum_10 = range_stocks_summary.sort_values(by='mean', ascending=False)\n",
    "momentum_10 = momentum_10.head(10)\n",
    "momentum_10"
   ]
  },
  {
   "cell_type": "markdown",
   "id": "fbfdfbd2",
   "metadata": {},
   "source": [
    "## plot return vs risk"
   ]
  },
  {
   "cell_type": "code",
   "execution_count": null,
   "id": "8a6dfd81",
   "metadata": {},
   "outputs": [],
   "source": [
    "momentum_10.plot.scatter(x='std', y='mean', figsize=(12,6), s=10, fontsize=12)\n",
    "for i in momentum_10.index:\n",
    "    plt.annotate(i, xy=(momentum_10.loc[i, 'std'], momentum_10.loc[i, 'mean']), size=12)\n",
    "plt.xlabel('Annual Risk (std)', fontsize=12)\n",
    "plt.ylabel('Annual Return (mean)')\n",
    "plt.title('Momentum Stocks\\' Return vs Risk', fontsize=16)\n",
    "plt.show()"
   ]
  },
  {
   "cell_type": "markdown",
   "id": "c07773a9",
   "metadata": {},
   "source": [
    "## calculate Relative Strength Index (RSI) of stocks"
   ]
  },
  {
   "cell_type": "code",
   "execution_count": null,
   "id": "517759d3",
   "metadata": {},
   "outputs": [],
   "source": [
    "change = range_stocks.diff()"
   ]
  },
  {
   "cell_type": "code",
   "execution_count": null,
   "id": "7335a439",
   "metadata": {
    "scrolled": true
   },
   "outputs": [],
   "source": [
    "# Create two copies of the Closing price Series\n",
    "change_up = change.copy()\n",
    "change_down = change.copy()\n",
    "\n",
    "change_up[change_up<0] = 0\n",
    "change_down[change_down>0] = 0\n",
    "\n",
    "# Calculate the rolling average of average up and average down\n",
    "avg_up = change_up.rolling(14).mean()\n",
    "avg_down = change_down.rolling(14).mean().abs()\n",
    "\n",
    "# Calculate rsi\n",
    "rsi = 100 * avg_up / (avg_up + avg_down)\n",
    "rsi\n"
   ]
  },
  {
   "cell_type": "markdown",
   "id": "766df222",
   "metadata": {},
   "source": [
    "## get latest RSI of each momentum stock"
   ]
  },
  {
   "cell_type": "code",
   "execution_count": null,
   "id": "17bf8a50",
   "metadata": {
    "scrolled": true
   },
   "outputs": [],
   "source": [
    "momentum_10_tickers = list(momentum_10.index)\n",
    "momentum_rsi_list = []\n",
    "momentum_rsi_dict = {}\n",
    "for ticker in momentum_10_tickers:\n",
    "    ticker_rsi = rsi[ticker][-1]\n",
    "    momentum_rsi_list.append(rsi[ticker][-1])\n",
    "    momentum_rsi_dict[ticker] = ticker_rsi\n",
    "\n",
    "momentum_rsi_dict"
   ]
  },
  {
   "cell_type": "code",
   "execution_count": null,
   "id": "c23c6d45",
   "metadata": {},
   "outputs": [],
   "source": [
    "# get stocks with RSI14 <= 45\n",
    "orders = [ticker for ticker in momentum_rsi_dict.keys() if momentum_rsi_dict[ticker] <= 50]\n",
    "orders"
   ]
  },
  {
   "cell_type": "code",
   "execution_count": null,
   "id": "06f1e960",
   "metadata": {},
   "outputs": [],
   "source": [
    "# plot orders' prices\n",
    "order = orders[-3]\n",
    "order_price = range_stocks[order]\n",
    "order_rsi = rsi[order]\n",
    "order_rsi.dropna()\n",
    "plt.plot(stocks[order])\n",
    "plt.title(order + ' Price')\n",
    "plt.ylabel('Price ($)')\n",
    "plt.xlabel('Date')"
   ]
  },
  {
   "cell_type": "code",
   "execution_count": null,
   "id": "0a19da9c",
   "metadata": {},
   "outputs": [],
   "source": [
    "plt.plot(order_price)\n",
    "plt.title(order + ' Price')\n",
    "plt.ylabel('Price ($)')\n",
    "plt.xlabel('Date')"
   ]
  },
  {
   "cell_type": "code",
   "execution_count": null,
   "id": "9ceab87c",
   "metadata": {},
   "outputs": [],
   "source": [
    "plt.plot(order_rsi)\n",
    "plt.title(order + ' RSI')\n",
    "plt.ylabel('RSI')\n",
    "plt.xlabel('Date')"
   ]
  }
 ],
 "metadata": {
  "kernelspec": {
   "display_name": "Python 3 (ipykernel)",
   "language": "python",
   "name": "python3"
  },
  "language_info": {
   "codemirror_mode": {
    "name": "ipython",
    "version": 3
   },
   "file_extension": ".py",
   "mimetype": "text/x-python",
   "name": "python",
   "nbconvert_exporter": "python",
   "pygments_lexer": "ipython3",
   "version": "3.10.9"
  }
 },
 "nbformat": 4,
 "nbformat_minor": 5
}
